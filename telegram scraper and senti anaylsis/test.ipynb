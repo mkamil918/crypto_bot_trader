{
 "cells": [
  {
   "cell_type": "code",
   "execution_count": 2,
   "metadata": {},
   "outputs": [
    {
     "name": "stderr",
     "output_type": "stream",
     "text": [
      "ERROR: Could not find a version that satisfies the requirement sqlite3 (from versions: none)\n",
      "ERROR: No matching distribution found for sqlite3\n"
     ]
    }
   ],
   "source": [
    "!pip install sqlite3"
   ]
  },
  {
   "cell_type": "code",
   "execution_count": 1,
   "metadata": {},
   "outputs": [],
   "source": [
    "\n",
    "import nest_asyncio\n",
    "nest_asyncio.apply()"
   ]
  },
  {
   "cell_type": "code",
   "execution_count": 6,
   "metadata": {},
   "outputs": [],
   "source": [
    "import sqlite3"
   ]
  },
  {
   "cell_type": "markdown",
   "metadata": {},
   "source": [
    "Base working code that allows date filtering"
   ]
  },
  {
   "cell_type": "code",
   "execution_count": 14,
   "metadata": {},
   "outputs": [
    {
     "name": "stdout",
     "output_type": "stream",
     "text": [
      "                        text                date     chat_id chat_name\n",
      "0  Where the bitches at dawg 2024-05-19 16:14:01  7117421425    mkamil\n",
      "1         lololololoolololol 2024-05-19 16:06:19  7117421425    mkamil\n",
      "2                    testing 2024-05-19 16:06:16  7117421425    mkamil\n",
      "3                    testing 2024-05-19 16:06:14  7117421425    mkamil\n"
     ]
    }
   ],
   "source": [
    "from pyrogram import Client\n",
    "import pandas as pd\n",
    "from datetime import datetime\n",
    "\n",
    "api_id = 26048155\n",
    "api_hash = \"907f85401aa5d3330edaba35908c817d\"\n",
    "app = Client(\"my_account\", api_id, api_hash)\n",
    "\n",
    "chat_id = \"7117421425\"\n",
    "\n",
    "# Specify the start and end dates for filtering\n",
    "start_date = datetime(2024, 5, 19)\n",
    "end_date = datetime(2024, 5, 20)\n",
    "\n",
    "async def main():\n",
    "    messages = []\n",
    "\n",
    "    async with app:\n",
    "        async for message in app.get_chat_history(chat_id):\n",
    "            message_date = message.date\n",
    "\n",
    "            # Filter messages by date\n",
    "            if start_date <= message_date <= end_date:\n",
    "                messages.append({\n",
    "                    \"text\": message.text,\n",
    "                    \"date\": message_date,\n",
    "                    \"chat_id\": message.chat.id,\n",
    "                    \"chat_name\": message.chat.title or message.chat.first_name\n",
    "                })\n",
    "\n",
    "    # Create a DataFrame\n",
    "    df = pd.DataFrame(messages)\n",
    "    print(df)\n",
    "\n",
    "app.run(main())\n"
   ]
  },
  {
   "cell_type": "markdown",
   "metadata": {},
   "source": [
    "SQLite integration with above code"
   ]
  },
  {
   "cell_type": "code",
   "execution_count": 2,
   "metadata": {},
   "outputs": [],
   "source": [
    "from pyrogram import Client\n",
    "import pandas as pd\n",
    "from datetime import datetime\n",
    "import sqlite3"
   ]
  },
  {
   "cell_type": "code",
   "execution_count": 3,
   "metadata": {},
   "outputs": [],
   "source": [
    "api_id = 26048155\n",
    "api_hash = \"907f85401aa5d3330edaba35908c817d\"\n",
    "app = Client(\"my_account\", api_id, api_hash)"
   ]
  },
  {
   "cell_type": "code",
   "execution_count": 4,
   "metadata": {},
   "outputs": [],
   "source": [
    "chat_id = \"7117421425\""
   ]
  },
  {
   "cell_type": "code",
   "execution_count": 5,
   "metadata": {},
   "outputs": [],
   "source": [
    "start_date = datetime(2024, 5, 18)\n",
    "end_date = datetime(2024, 5, 20)\n"
   ]
  },
  {
   "cell_type": "code",
   "execution_count": 6,
   "metadata": {},
   "outputs": [],
   "source": [
    "db_name = 'messages.db'\n",
    "conn = sqlite3.connect(db_name)\n",
    "cursor = conn.cursor()"
   ]
  },
  {
   "cell_type": "code",
   "execution_count": 7,
   "metadata": {},
   "outputs": [],
   "source": [
    "cursor.execute('''\n",
    "    CREATE TABLE IF NOT EXISTS messages (\n",
    "        id INTEGER PRIMARY KEY AUTOINCREMENT,\n",
    "        text TEXT,\n",
    "        date TEXT,\n",
    "        chat_id INTEGER,\n",
    "        chat_name TEXT\n",
    "    )\n",
    "''')\n",
    "conn.commit()"
   ]
  },
  {
   "cell_type": "code",
   "execution_count": 9,
   "metadata": {},
   "outputs": [
    {
     "name": "stdout",
     "output_type": "stream",
     "text": [
      "                        text                date     chat_id chat_name\n",
      "0  Where the bitches at dawg 2024-05-19 16:14:01  7117421425    mkamil\n",
      "1         lololololoolololol 2024-05-19 16:06:19  7117421425    mkamil\n",
      "2                    testing 2024-05-19 16:06:16  7117421425    mkamil\n",
      "3                    testing 2024-05-19 16:06:14  7117421425    mkamil\n"
     ]
    }
   ],
   "source": [
    "\n",
    "async def main():\n",
    "    messages = []\n",
    "\n",
    "    async with app:\n",
    "        async for message in app.get_chat_history(chat_id):\n",
    "            message_date = message.date\n",
    "\n",
    "            # Filter messages by date\n",
    "            if start_date <= message_date <= end_date:\n",
    "                messages.append({\n",
    "                    \"text\": message.text,\n",
    "                    \"date\": message_date,\n",
    "                    \"chat_id\": message.chat.id,\n",
    "                    \"chat_name\": message.chat.title or message.chat.first_name\n",
    "                })\n",
    "\n",
    "    # Create a DataFrame\n",
    "    df = pd.DataFrame(messages)\n",
    "\n",
    "    # Insert data into SQLite\n",
    "    for _, row in df.iterrows():\n",
    "        cursor.execute('''\n",
    "            INSERT INTO messages (text, date, chat_id, chat_name) VALUES (?, ?, ?, ?)\n",
    "        ''', (row['text'], row['date'].strftime('%Y-%m-%d %H:%M:%S'), row['chat_id'], row['chat_name']))\n",
    "\n",
    "\n",
    "    # Commit the transaction and close the connection\n",
    "    conn.commit()\n",
    "    conn.close()\n",
    "\n",
    "    # Print DataFrame (optional)\n",
    "    print(df)\n",
    "\n",
    "app.run(main())"
   ]
  },
  {
   "cell_type": "code",
   "execution_count": null,
   "metadata": {},
   "outputs": [],
   "source": []
  }
 ],
 "metadata": {
  "kernelspec": {
   "display_name": "base",
   "language": "python",
   "name": "python3"
  },
  "language_info": {
   "codemirror_mode": {
    "name": "ipython",
    "version": 3
   },
   "file_extension": ".py",
   "mimetype": "text/x-python",
   "name": "python",
   "nbconvert_exporter": "python",
   "pygments_lexer": "ipython3",
   "version": "3.11.7"
  },
  "orig_nbformat": 4
 },
 "nbformat": 4,
 "nbformat_minor": 2
}
